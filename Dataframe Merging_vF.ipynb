{
 "cells": [
  {
   "cell_type": "code",
   "execution_count": null,
   "id": "0fc5a15b-2b03-4275-ba4b-0c2667279a16",
   "metadata": {},
   "outputs": [],
   "source": [
    "##########################################################################\n",
    "\n",
    "# I acknowledge the use of ChatGPT and AI Tools in Helping me Code and Debug the work in this File\n",
    "\n",
    "##########################################################################\n",
    "\n",
    "\n"
   ]
  },
  {
   "cell_type": "code",
   "execution_count": 1,
   "id": "1130fc1e-386b-430a-a109-0488446115f5",
   "metadata": {},
   "outputs": [],
   "source": [
    "import numpy as np\n",
    "import pandas as pd \n",
    "import re\n",
    "import matplotlib.pyplot as plt\n",
    "\n",
    "\n",
    "# file_path = \"/Users/marcosmaldacena/Downloads/Thesis Data/2024_2025_start.csv\"\n",
    "\n",
    "# df = pd.read_csv(file_path)\n",
    "\n",
    "# file_path = \"/scratch/network/mm4846/Thesis Data/Emploiyees_Yearly.csv\"\n",
    "\n",
    "# df2 = pd.read_csv(file_path)\n",
    "\n",
    "# # file_path = (\"/Users/marcosmaldacena/Downloads/Thesis Data/2006_2025_03_02_v9.csv\")\n",
    "\n",
    "# # df_combined = pd.read_csv(file_path)\n",
    "\n",
    "\n",
    "# # path = (\"/Users/marcosmaldacena/Downloads/Thesis Data/df_combined_neg.csv\")\n",
    "\n",
    "# # df_neg = pd.read_csv(path, usecols = ['ticker', 'date', 'assigned_quarter', 'question_answer_pairs', \n",
    "# #                                       'questions_only', 'negative_questions', 'num_negative_questions'])\n",
    "\n",
    "\n",
    "# path =  \"/scratch/network/mm4846/Thesis Data/transcripts_2006_2025_03_18.csv\"\n",
    "\n",
    "# df = pd.read_csv(path)\n",
    "\n",
    "# others_path = \"/scratch/network/mm4846/transcripts_2006_2025_03_18_enhanced_other_qs_v2.csv\"\n",
    "\n",
    "# others_path = pd.read_csv(path)\n",
    "\n",
    "# master_file_path_2 = \"/scratch/network/mm4846/transcripts_2006_2025_03_18_master_v2.csv\"\n",
    "# df_master_2 = pd.read_csv(master_file_path_2)\n"
   ]
  },
  {
   "cell_type": "code",
   "execution_count": 2,
   "id": "0da1e59e-9ca3-4ffe-9c3a-5f8f345d761c",
   "metadata": {},
   "outputs": [],
   "source": [
    "df_others_small = pd.read_csv(others_path, usecols=[\"ticker\", \"assigned_quarter\", 'other_qna_question_count'])\n"
   ]
  },
  {
   "cell_type": "code",
   "execution_count": null,
   "id": "6e390b81-8ab1-478e-bea0-b615e214c8f4",
   "metadata": {},
   "outputs": [],
   "source": []
  },
  {
   "cell_type": "code",
   "execution_count": 2,
   "id": "97f371a7-daca-4e65-a3b2-b3b2179ddb80",
   "metadata": {},
   "outputs": [],
   "source": [
    "master_path = \"/scratch/network/mm4846/transcripts_2006_2025_03_18_master.csv\"\n",
    "master_columns = pd.read_csv(master_path, usecols=[\"assigned_quarter\"])\n",
    "\n",
    "# merged_chunks = []\n",
    "# chunk_size = 1000\n",
    "\n",
    "# for chunk in pd.read_csv(master_path, chunksize=chunk_size):\n",
    "#     merged_chunk = chunk.merge(df_others_small, on=[\"ticker\", \"assigned_quarter\"], how=\"left\")\n",
    "#     merged_chunks.append(merged_chunk)\n",
    "\n",
    "# df_master_2 = pd.concat(merged_chunks, ignore_index=True)\n",
    "\n"
   ]
  },
  {
   "cell_type": "code",
   "execution_count": 3,
   "id": "5649107a-377f-4ae8-a69a-1f476a35b7e1",
   "metadata": {},
   "outputs": [
    {
     "data": {
      "text/plain": [
       "array(['2005Q4', '2006Q1', '2006Q2', '2006Q3', '2006Q4', '2007Q1',\n",
       "       '2007Q2', '2007Q3', '2007Q4', '2008Q1', '2008Q2', '2008Q3',\n",
       "       '2008Q4', '2009Q1', '2009Q2', '2009Q3', '2009Q4', '2005Q3',\n",
       "       '2010Q1', '2010Q2', '2010Q3', '2010Q4', '2011Q1', '2011Q2',\n",
       "       '2011Q3', '2011Q4', '2012Q1', '2012Q2', '2012Q3', '2012Q4',\n",
       "       '2013Q1', '2013Q2', '2013Q3', '2013Q4', '2015Q1', '2015Q2',\n",
       "       '2015Q3', '2015Q4', '2016Q1', '2016Q2', '2016Q3', '2016Q4',\n",
       "       '2014Q2', '2014Q3', '2014Q4', '2014Q1', '2017Q1', '2017Q2',\n",
       "       '2017Q3', '2017Q4', '2018Q1', '2018Q2', '2018Q3', '2018Q4',\n",
       "       '2019Q1', '2019Q2', '2019Q3', '2019Q4', '2020Q1', '2020Q2',\n",
       "       '2020Q3', '2020Q4', '2021Q1', '2021Q2', '2021Q3', '2021Q4',\n",
       "       '2024Q2', '2023Q2', '2023Q3', '2023Q4', '2024Q1', '2022Q1',\n",
       "       '2022Q2', '2022Q3', '2022Q4', '2024Q3', '2023Q1'], dtype=object)"
      ]
     },
     "execution_count": 3,
     "metadata": {},
     "output_type": "execute_result"
    }
   ],
   "source": [
    "master_columns['assigned_quarter'].unique()\n",
    "\n"
   ]
  },
  {
   "cell_type": "code",
   "execution_count": null,
   "id": "6e8f0a8c-bbc9-41e9-ab67-651138e0fe67",
   "metadata": {},
   "outputs": [],
   "source": []
  },
  {
   "cell_type": "code",
   "execution_count": 2,
   "id": "fbba68f2-5724-41dd-aeae-d829adf10ff7",
   "metadata": {},
   "outputs": [
    {
     "data": {
      "text/plain": [
       "Index(['Unnamed: 0.3', 'Unnamed: 0.2', 'Unnamed: 0.1', 'Unnamed: 0', 'ticker',\n",
       "       'year', 'quarter', 'date', 'content', 'sector_name_mapped',\n",
       "       'group_name_mapped', 'ind_name_mapped', 'subind_name_mapped',\n",
       "       'day_of_year', 'assigned_quarter', 'presentation', 'qna',\n",
       "       'all_questions', 'question_answer_pairs',\n",
       "       'question_answer_pairs_parsed', 'other_qna_question_count'],\n",
       "      dtype='object')"
      ]
     },
     "execution_count": 2,
     "metadata": {},
     "output_type": "execute_result"
    }
   ],
   "source": [
    "df_others_2 = df_others[['ticker', 'assigned_quarter', 'other_qna_question_count']]\n",
    "# merged_df = pd.merge(df_master_2, df_others, on = \n",
    "\n",
    "df_merged = df_master_2.merge(df_others_2, on = ['ticker', 'assigned_quarter'], how=\"left\")\n"
   ]
  },
  {
   "cell_type": "code",
   "execution_count": null,
   "id": "ed6705a2-226b-4cb3-8d1a-0e0c297f5f9a",
   "metadata": {},
   "outputs": [],
   "source": [
    "df_merged"
   ]
  },
  {
   "cell_type": "code",
   "execution_count": 1,
   "id": "37b8df4b-af25-4062-9fe7-24231df8e4b9",
   "metadata": {},
   "outputs": [
    {
     "name": "stdout",
     "output_type": "stream",
     "text": [
      "0\n",
      "1\n",
      "2\n",
      "3\n",
      "Added 0 missing columns from enhanced dataset and saved the updated file.\n"
     ]
    }
   ],
   "source": [
    "import pandas as pd\n",
    "\n",
    "# Define file paths\n",
    "# master_file_path = \"/scratch/network/mm4846/transcripts_2006_2025_03_18_master.csv\"\n",
    "master_file_path_2 = \"/scratch/network/mm4846/transcripts_2006_2025_03_18_master_v2.csv\"\n",
    "\n",
    "enhanced_file_path = \"/scratch/network/mm4846/transcripts_2006_2025_03_18_enhanced_v4.csv\"\n",
    "\n",
    "# Read only the column names\n",
    "master_columns = pd.read_csv(master_file_path, nrows=0).columns.tolist()\n",
    "print(\"0\")\n",
    "\n",
    "enhanced_columns = pd.read_csv(enhanced_file_path, nrows=0).columns.tolist()\n",
    "\n",
    "# Convert to sets for comparison\n",
    "set_master = set(master_columns)\n",
    "set_enhanced = set(enhanced_columns)\n",
    "\n",
    "print(\"1\")\n",
    "\n",
    "# Find columns in enhanced but not in master\n",
    "only_in_enhanced = set_enhanced - set_master\n",
    "\n",
    "# Load the master dataset\n",
    "df_master = pd.read_csv(master_file_path)\n",
    "print(\"2\")\n",
    "# Add missing columns from enhanced dataset with NaN values\n",
    "for col in only_in_enhanced:\n",
    "    df_master[col] = pd.NA  # Initialize new columns with NaN\n",
    "\n",
    "# Save the updated master dataset\n",
    "print(\"3\")\n",
    "df_master.to_csv(master_file_path_2, index=False)\n",
    "\n",
    "print(f\"Added {len(only_in_enhanced)} missing columns from enhanced dataset and saved the updated file.\")\n"
   ]
  },
  {
   "cell_type": "code",
   "execution_count": 12,
   "id": "f9889e07-42bc-4cf3-b3a9-0ef43d2d9d15",
   "metadata": {},
   "outputs": [],
   "source": [
    "# set_3 = df_master.columns\n"
   ]
  },
  {
   "cell_type": "code",
   "execution_count": 4,
   "id": "dd8168d9-360d-4db0-bf46-b2b683afd509",
   "metadata": {},
   "outputs": [
    {
     "name": "stdout",
     "output_type": "stream",
     "text": [
      "['Unnamed: 0.5', 'Unnamed: 0.4', 'Unnamed: 0.3', 'Unnamed: 0.2', 'Unnamed: 0.1', 'Unnamed: 0', 'ticker', 'year', 'quarter', 'date', 'content', 'sector_name_mapped', 'group_name_mapped', 'ind_name_mapped', 'subind_name_mapped', 'day_of_year', 'assigned_quarter', 'presentation', 'qna', 'qna_pairs', 'all_questions', 'question_answer_pairs', 'question_answer_pairs_parsed', 'dividend_mentions_qna_question_count', 'dividend_mentions_qna_answer_count', 'dividend_mentions_presentation', 'geopolitical_mentions_qna_question_count', 'geopolitical_mentions_qna_answer_count', 'geopolitical_mentions_presentation', 'geopolitical_2_mentions_qna_question_count', 'geopolitical_2_mentions_qna_answer_count', 'geopolitical_2_mentions_presentation', 'climate_mentions_qna_question_count', 'climate_mentions_qna_answer_count', 'climate_mentions_presentation', 'outperform_mentions_qna_question_count', 'outperform_mentions_qna_answer_count', 'outperform_mentions_presentation', 'supply_chain_mentions_qna_question_count', 'supply_chain_mentions_qna_answer_count', 'supply_chain_mentions_presentation', 'tariffs_mentions_qna_question_count', 'tariffs_mentions_qna_answer_count', 'tariffs_mentions_presentation', 'inflation_mentions_qna_question_count', 'inflation_mentions_qna_answer_count', 'inflation_mentions_presentation', 'capex_mentions_qna_question_count', 'capex_mentions_qna_answer_count', 'capex_mentions_presentation', 'labor_cost_mentions_qna_question_count', 'labor_cost_mentions_qna_answer_count', 'labor_cost_mentions_presentation', 'reshoring_mentions_qna_question_count', 'reshoring_mentions_qna_answer_count', 'reshoring_mentions_presentation', 'debt_mentions_qna_question_count', 'debt_mentions_qna_answer_count', 'debt_mentions_presentation', 'commodity_price_mentions_qna_question_count', 'commodity_price_mentions_qna_answer_count', 'commodity_price_mentions_presentation', 'consumer_demand_mentions_qna_question_count', 'consumer_demand_mentions_qna_answer_count', 'consumer_demand_mentions_presentation', 'operational_mentions_qna_question_count', 'operational_mentions_qna_answer_count', 'operational_mentions_presentation', 'guidance_forecasts_mentions_qna_question_count', 'guidance_forecasts_mentions_qna_answer_count', 'guidance_forecasts_mentions_presentation', 'rd_mentions_qna_question_count', 'rd_mentions_qna_answer_count', 'rd_mentions_presentation', 'esg_sustainability_mentions_qna_question_count', 'esg_sustainability_mentions_qna_answer_count', 'esg_sustainability_mentions_presentation', 'cybersecurity_data_protection_mentions_qna_question_count', 'cybersecurity_data_protection_mentions_qna_answer_count', 'cybersecurity_data_protection_mentions_presentation', 'currency_fluctuations_hedging_mentions_qna_question_count', 'currency_fluctuations_hedging_mentions_qna_answer_count', 'currency_fluctuations_hedging_mentions_presentation', 'regulation_mentions_qna_question_count', 'regulation_mentions_qna_answer_count', 'regulation_mentions_presentation', 'liquidity_cash_flow_mentions_qna_question_count', 'liquidity_cash_flow_mentions_qna_answer_count', 'liquidity_cash_flow_mentions_presentation', 'tax_strategy_mentions_qna_question_count', 'tax_strategy_mentions_qna_answer_count', 'tax_strategy_mentions_presentation', 'ai_mentions_qna_question_count', 'ai_mentions_qna_answer_count', 'ai_mentions_presentation', 'interest_rates_mentions_qna_question_count', 'interest_rates_mentions_qna_answer_count', 'interest_rates_mentions_presentation', 'labor_mentions_qna_question_count', 'labor_mentions_qna_answer_count', 'labor_mentions_presentation', 'political_mentions_qna_question_count', 'political_mentions_qna_answer_count', 'political_mentions_presentation']\n"
     ]
    }
   ],
   "source": [
    "##########\n",
    "## MASTER _DF COLUMNS\n",
    "\n",
    "file_path = \"/scratch/network/mm4846/transcripts_2006_2025_03_18_master.csv\"\n",
    "\n",
    "# Read only the header (column names) without loading the full dataset\n",
    "column_names = pd.read_csv(file_path, nrows=0).columns.tolist()\n",
    "\n",
    "print(column_names)  # Display column names\n",
    "\n",
    "\n"
   ]
  },
  {
   "cell_type": "code",
   "execution_count": 5,
   "id": "59b5197c-c07c-4853-8545-d4e11f2b3cf5",
   "metadata": {},
   "outputs": [
    {
     "name": "stdout",
     "output_type": "stream",
     "text": [
      "['Unnamed: 0.4', 'Unnamed: 0.3', 'Unnamed: 0.2', 'Unnamed: 0.1', 'Unnamed: 0', 'ticker', 'year', 'quarter', 'date', 'content', 'sector_name_mapped', 'group_name_mapped', 'ind_name_mapped', 'subind_name_mapped', 'day_of_year', 'assigned_quarter', 'presentation', 'qna', 'qna_pairs', 'all_questions', 'question_answer_pairs', 'question_answer_pairs_parsed', 'dividend_mentions_qna_question_count', 'dividend_mentions_qna_answer_count', 'dividend_mentions_presentation', 'geopolitical_mentions_qna_question_count', 'geopolitical_mentions_qna_answer_count', 'geopolitical_mentions_presentation', 'geopolitical_2_mentions_qna_question_count', 'geopolitical_2_mentions_qna_answer_count', 'geopolitical_2_mentions_presentation', 'climate_mentions_qna_question_count', 'climate_mentions_qna_answer_count', 'climate_mentions_presentation', 'outperform_mentions_qna_question_count', 'outperform_mentions_qna_answer_count', 'outperform_mentions_presentation', 'supply_chain_mentions_qna_question_count', 'supply_chain_mentions_qna_answer_count', 'supply_chain_mentions_presentation', 'tariffs_mentions_qna_question_count', 'tariffs_mentions_qna_answer_count', 'tariffs_mentions_presentation', 'inflation_mentions_qna_question_count', 'inflation_mentions_qna_answer_count', 'inflation_mentions_presentation', 'capex_mentions_qna_question_count', 'capex_mentions_qna_answer_count', 'capex_mentions_presentation', 'labor_cost_mentions_qna_question_count', 'labor_cost_mentions_qna_answer_count', 'labor_cost_mentions_presentation', 'reshoring_mentions_qna_question_count', 'reshoring_mentions_qna_answer_count', 'reshoring_mentions_presentation', 'debt_mentions_qna_question_count', 'debt_mentions_qna_answer_count', 'debt_mentions_presentation', 'commodity_price_mentions_qna_question_count', 'commodity_price_mentions_qna_answer_count', 'commodity_price_mentions_presentation', 'consumer_demand_mentions_qna_question_count', 'consumer_demand_mentions_qna_answer_count', 'consumer_demand_mentions_presentation', 'operational_mentions_qna_question_count', 'operational_mentions_qna_answer_count', 'operational_mentions_presentation', 'guidance_forecasts_mentions_qna_question_count', 'guidance_forecasts_mentions_qna_answer_count', 'guidance_forecasts_mentions_presentation', 'rd_mentions_qna_question_count', 'rd_mentions_qna_answer_count', 'rd_mentions_presentation', 'esg_sustainability_mentions_qna_question_count', 'esg_sustainability_mentions_qna_answer_count', 'esg_sustainability_mentions_presentation', 'cybersecurity_data_protection_mentions_qna_question_count', 'cybersecurity_data_protection_mentions_qna_answer_count', 'cybersecurity_data_protection_mentions_presentation', 'currency_fluctuations_hedging_mentions_qna_question_count', 'currency_fluctuations_hedging_mentions_qna_answer_count', 'currency_fluctuations_hedging_mentions_presentation', 'regulation_mentions_qna_question_count', 'regulation_mentions_qna_answer_count', 'regulation_mentions_presentation', 'liquidity_cash_flow_mentions_qna_question_count', 'liquidity_cash_flow_mentions_qna_answer_count', 'liquidity_cash_flow_mentions_presentation', 'tax_strategy_mentions_qna_question_count', 'tax_strategy_mentions_qna_answer_count', 'tax_strategy_mentions_presentation', 'ai_mentions_qna_question_count', 'ai_mentions_qna_answer_count', 'ai_mentions_presentation', 'interest_rates_mentions_qna_question_count', 'interest_rates_mentions_qna_answer_count', 'interest_rates_mentions_presentation', 'labor_mentions_qna_question_count', 'labor_mentions_qna_answer_count', 'labor_mentions_presentation', 'buyback_mentions_qna_question_count', 'buyback_mentions_qna_answer_count', 'buyback_mentions_presentation', 'pandemic_mentions_qna_question_count', 'pandemic_mentions_qna_answer_count', 'pandemic_mentions_presentation']\n"
     ]
    }
   ],
   "source": [
    "\n",
    "file_path = \"/scratch/network/mm4846/transcripts_2006_2025_03_18_enhanced_v4.csv\"\n",
    "\n",
    "# Read only the header (column names) without loading the full dataset\n",
    "column_names = pd.read_csv(file_path, nrows=0).columns.tolist()\n",
    "\n",
    "print(column_names)  # Display column names\n",
    "\n"
   ]
  },
  {
   "cell_type": "code",
   "execution_count": 6,
   "id": "2a91c509-cade-4304-bb69-0e243a7b1e26",
   "metadata": {},
   "outputs": [
    {
     "data": {
      "text/plain": [
       "({'Unnamed: 0.5',\n",
       "  'ai_mentions_presentation',\n",
       "  'ai_mentions_qna_answer_count',\n",
       "  'ai_mentions_qna_question_count',\n",
       "  'interest_rates_mentions_presentation',\n",
       "  'interest_rates_mentions_qna_answer_count',\n",
       "  'interest_rates_mentions_qna_question_count',\n",
       "  'labor_mentions_presentation',\n",
       "  'labor_mentions_qna_answer_count',\n",
       "  'labor_mentions_qna_question_count',\n",
       "  'political_mentions_presentation',\n",
       "  'political_mentions_qna_answer_count',\n",
       "  'political_mentions_qna_question_count',\n",
       "  'tax_strategy_mentions_presentation',\n",
       "  'tax_strategy_mentions_qna_answer_count',\n",
       "  'tax_strategy_mentions_qna_question_count'},\n",
       " {'buyback_mentions_presentation',\n",
       "  'buyback_mentions_qna_answer_count',\n",
       "  'buyback_mentions_qna_question_count',\n",
       "  'pandemic_mentions_presentation',\n",
       "  'pandemic_mentions_qna_answer_count',\n",
       "  'pandemic_mentions_qna_question_count'})"
      ]
     },
     "execution_count": 6,
     "metadata": {},
     "output_type": "execute_result"
    }
   ],
   "source": [
    "# Redefine the two sets of column names after execution reset\n",
    "\n",
    "set1 = {\n",
    "    'Unnamed: 0.5', 'Unnamed: 0.4', 'Unnamed: 0.3', 'Unnamed: 0.2', 'Unnamed: 0.1', 'Unnamed: 0', 'ticker', 'year', \n",
    "    'quarter', 'date', 'content', 'sector_name_mapped', 'group_name_mapped', 'ind_name_mapped', 'subind_name_mapped', \n",
    "    'day_of_year', 'assigned_quarter', 'presentation', 'qna', 'qna_pairs', 'all_questions', 'question_answer_pairs', \n",
    "    'question_answer_pairs_parsed', 'dividend_mentions_qna_question_count', 'dividend_mentions_qna_answer_count', \n",
    "    'dividend_mentions_presentation', 'geopolitical_mentions_qna_question_count', 'geopolitical_mentions_qna_answer_count', \n",
    "    'geopolitical_mentions_presentation', 'geopolitical_2_mentions_qna_question_count', 'geopolitical_2_mentions_qna_answer_count', \n",
    "    'geopolitical_2_mentions_presentation', 'climate_mentions_qna_question_count', 'climate_mentions_qna_answer_count', \n",
    "    'climate_mentions_presentation', 'outperform_mentions_qna_question_count', 'outperform_mentions_qna_answer_count', \n",
    "    'outperform_mentions_presentation', 'supply_chain_mentions_qna_question_count', 'supply_chain_mentions_qna_answer_count', \n",
    "    'supply_chain_mentions_presentation', 'tariffs_mentions_qna_question_count', 'tariffs_mentions_qna_answer_count', \n",
    "    'tariffs_mentions_presentation', 'inflation_mentions_qna_question_count', 'inflation_mentions_qna_answer_count', \n",
    "    'inflation_mentions_presentation', 'capex_mentions_qna_question_count', 'capex_mentions_qna_answer_count', \n",
    "    'capex_mentions_presentation', 'labor_cost_mentions_qna_question_count', 'labor_cost_mentions_qna_answer_count', \n",
    "    'labor_cost_mentions_presentation', 'reshoring_mentions_qna_question_count', 'reshoring_mentions_qna_answer_count', \n",
    "    'reshoring_mentions_presentation', 'debt_mentions_qna_question_count', 'debt_mentions_qna_answer_count', \n",
    "    'debt_mentions_presentation', 'commodity_price_mentions_qna_question_count', 'commodity_price_mentions_qna_answer_count', \n",
    "    'commodity_price_mentions_presentation', 'consumer_demand_mentions_qna_question_count', \n",
    "    'consumer_demand_mentions_qna_answer_count', 'consumer_demand_mentions_presentation', \n",
    "    'operational_mentions_qna_question_count', 'operational_mentions_qna_answer_count', 'operational_mentions_presentation', \n",
    "    'guidance_forecasts_mentions_qna_question_count', 'guidance_forecasts_mentions_qna_answer_count', \n",
    "    'guidance_forecasts_mentions_presentation', 'rd_mentions_qna_question_count', 'rd_mentions_qna_answer_count', \n",
    "    'rd_mentions_presentation', 'esg_sustainability_mentions_qna_question_count', 'esg_sustainability_mentions_qna_answer_count', \n",
    "    'esg_sustainability_mentions_presentation', 'cybersecurity_data_protection_mentions_qna_question_count', \n",
    "    'cybersecurity_data_protection_mentions_qna_answer_count', 'cybersecurity_data_protection_mentions_presentation', \n",
    "    'currency_fluctuations_hedging_mentions_qna_question_count', 'currency_fluctuations_hedging_mentions_qna_answer_count', \n",
    "    'currency_fluctuations_hedging_mentions_presentation', 'regulation_mentions_qna_question_count', \n",
    "    'regulation_mentions_qna_answer_count', 'regulation_mentions_presentation', 'liquidity_cash_flow_mentions_qna_question_count', \n",
    "    'liquidity_cash_flow_mentions_qna_answer_count', 'liquidity_cash_flow_mentions_presentation', \n",
    "    'tax_strategy_mentions_qna_question_count', 'tax_strategy_mentions_qna_answer_count', 'tax_strategy_mentions_presentation', \n",
    "    'ai_mentions_qna_question_count', 'ai_mentions_qna_answer_count', 'ai_mentions_presentation', \n",
    "    'interest_rates_mentions_qna_question_count', 'interest_rates_mentions_qna_answer_count', \n",
    "    'interest_rates_mentions_presentation', 'labor_mentions_qna_question_count', 'labor_mentions_qna_answer_count', \n",
    "    'labor_mentions_presentation', 'political_mentions_qna_question_count', 'political_mentions_qna_answer_count', \n",
    "    'political_mentions_presentation'\n",
    "}\n",
    "\n",
    "set2 = {\n",
    "    'Unnamed: 0.4', 'Unnamed: 0.3', 'Unnamed: 0.2', 'Unnamed: 0.1', 'Unnamed: 0', 'ticker', 'year', 'quarter', 'date', \n",
    "    'content', 'sector_name_mapped', 'group_name_mapped', 'ind_name_mapped', 'subind_name_mapped', 'day_of_year', \n",
    "    'assigned_quarter', 'presentation', 'qna', 'qna_pairs', 'all_questions', 'question_answer_pairs', \n",
    "    'question_answer_pairs_parsed', 'dividend_mentions_qna_question_count', 'dividend_mentions_qna_answer_count', \n",
    "    'dividend_mentions_presentation', 'geopolitical_mentions_qna_question_count', 'geopolitical_mentions_qna_answer_count', \n",
    "    'geopolitical_mentions_presentation', 'geopolitical_2_mentions_qna_question_count', 'geopolitical_2_mentions_qna_answer_count', \n",
    "    'geopolitical_2_mentions_presentation', 'climate_mentions_qna_question_count', 'climate_mentions_qna_answer_count', \n",
    "    'climate_mentions_presentation', 'outperform_mentions_qna_question_count', 'outperform_mentions_qna_answer_count', \n",
    "    'outperform_mentions_presentation', 'supply_chain_mentions_qna_question_count', 'supply_chain_mentions_qna_answer_count', \n",
    "    'supply_chain_mentions_presentation', 'tariffs_mentions_qna_question_count', 'tariffs_mentions_qna_answer_count', \n",
    "    'tariffs_mentions_presentation', 'inflation_mentions_qna_question_count', 'inflation_mentions_qna_answer_count', \n",
    "    'inflation_mentions_presentation', 'capex_mentions_qna_question_count', 'capex_mentions_qna_answer_count', \n",
    "    'capex_mentions_presentation', 'labor_cost_mentions_qna_question_count', 'labor_cost_mentions_qna_answer_count', \n",
    "    'labor_cost_mentions_presentation', 'reshoring_mentions_qna_question_count', 'reshoring_mentions_qna_answer_count', \n",
    "    'reshoring_mentions_presentation', 'debt_mentions_qna_question_count', 'debt_mentions_qna_answer_count', \n",
    "    'debt_mentions_presentation', 'commodity_price_mentions_qna_question_count', 'commodity_price_mentions_qna_answer_count', \n",
    "    'commodity_price_mentions_presentation', 'consumer_demand_mentions_qna_question_count', \n",
    "    'consumer_demand_mentions_qna_answer_count', 'consumer_demand_mentions_presentation', \n",
    "    'operational_mentions_qna_question_count', 'operational_mentions_qna_answer_count', 'operational_mentions_presentation', \n",
    "    'guidance_forecasts_mentions_qna_question_count', 'guidance_forecasts_mentions_qna_answer_count', \n",
    "    'guidance_forecasts_mentions_presentation', 'rd_mentions_qna_question_count', 'rd_mentions_qna_answer_count', \n",
    "    'rd_mentions_presentation', 'esg_sustainability_mentions_qna_question_count', 'esg_sustainability_mentions_qna_answer_count', \n",
    "    'esg_sustainability_mentions_presentation', 'cybersecurity_data_protection_mentions_qna_question_count', \n",
    "    'cybersecurity_data_protection_mentions_qna_answer_count', 'cybersecurity_data_protection_mentions_presentation', \n",
    "    'currency_fluctuations_hedging_mentions_qna_question_count', 'currency_fluctuations_hedging_mentions_qna_answer_count', \n",
    "    'currency_fluctuations_hedging_mentions_presentation', 'regulation_mentions_qna_question_count', \n",
    "    'regulation_mentions_qna_answer_count', 'regulation_mentions_presentation', 'liquidity_cash_flow_mentions_qna_question_count', \n",
    "    'liquidity_cash_flow_mentions_qna_answer_count', 'liquidity_cash_flow_mentions_presentation', 'buyback_mentions_qna_question_count', \n",
    "    'buyback_mentions_qna_answer_count', 'buyback_mentions_presentation', 'pandemic_mentions_qna_question_count', \n",
    "    'pandemic_mentions_qna_answer_count', 'pandemic_mentions_presentation'\n",
    "}\n",
    "\n",
    "# Find columns in one set but not the other\n",
    "only_in_set1 = set1 - set2\n",
    "only_in_set2 = set2 - set1\n",
    "\n",
    "only_in_set1, only_in_set2\n"
   ]
  },
  {
   "cell_type": "code",
   "execution_count": 9,
   "id": "a8ae5bbf-dad0-427c-9a50-e3f90eb6b0f0",
   "metadata": {},
   "outputs": [
    {
     "ename": "AttributeError",
     "evalue": "'Index' object has no attribute 'columns'",
     "output_type": "error",
     "traceback": [
      "\u001b[0;31m---------------------------------------------------------------------------\u001b[0m",
      "\u001b[0;31mAttributeError\u001b[0m                            Traceback (most recent call last)",
      "Cell \u001b[0;32mIn[9], line 1\u001b[0m\n\u001b[0;32m----> 1\u001b[0m set_3\u001b[38;5;241m.\u001b[39mcolumns\n",
      "\u001b[0;31mAttributeError\u001b[0m: 'Index' object has no attribute 'columns'"
     ]
    }
   ],
   "source": [
    "set_3.columns"
   ]
  },
  {
   "cell_type": "code",
   "execution_count": 6,
   "id": "5c6b98bd-d418-4f8c-8f2d-0839ae85cc63",
   "metadata": {},
   "outputs": [
    {
     "name": "stdout",
     "output_type": "stream",
     "text": [
      "['Unnamed: 0.4', 'Unnamed: 0.3', 'Unnamed: 0.2', 'Unnamed: 0.1', 'Unnamed: 0', 'ticker', 'year', 'quarter', 'date', 'content', 'sector_name_mapped', 'group_name_mapped', 'ind_name_mapped', 'subind_name_mapped', 'day_of_year', 'assigned_quarter', 'presentation', 'qna', 'qna_pairs', 'all_questions', 'question_answer_pairs', 'question_answer_pairs_parsed', 'dividend_mentions_qna_question_count', 'dividend_mentions_qna_answer_count', 'dividend_mentions_presentation', 'geopolitical_mentions_qna_question_count', 'geopolitical_mentions_qna_answer_count', 'geopolitical_mentions_presentation', 'geopolitical_2_mentions_qna_question_count', 'geopolitical_2_mentions_qna_answer_count', 'geopolitical_2_mentions_presentation', 'climate_mentions_qna_question_count', 'climate_mentions_qna_answer_count', 'climate_mentions_presentation', 'outperform_mentions_qna_question_count', 'outperform_mentions_qna_answer_count', 'outperform_mentions_presentation', 'supply_chain_mentions_qna_question_count', 'supply_chain_mentions_qna_answer_count', 'supply_chain_mentions_presentation', 'tariffs_mentions_qna_question_count', 'tariffs_mentions_qna_answer_count', 'tariffs_mentions_presentation', 'inflation_mentions_qna_question_count', 'inflation_mentions_qna_answer_count', 'inflation_mentions_presentation', 'capex_mentions_qna_question_count', 'capex_mentions_qna_answer_count', 'capex_mentions_presentation', 'labor_cost_mentions_qna_question_count', 'labor_cost_mentions_qna_answer_count', 'labor_cost_mentions_presentation', 'reshoring_mentions_qna_question_count', 'reshoring_mentions_qna_answer_count', 'reshoring_mentions_presentation', 'debt_mentions_qna_question_count', 'debt_mentions_qna_answer_count', 'debt_mentions_presentation', 'commodity_price_mentions_qna_question_count', 'commodity_price_mentions_qna_answer_count', 'commodity_price_mentions_presentation', 'consumer_demand_mentions_qna_question_count', 'consumer_demand_mentions_qna_answer_count', 'consumer_demand_mentions_presentation', 'operational_mentions_qna_question_count', 'operational_mentions_qna_answer_count', 'operational_mentions_presentation', 'guidance_forecasts_mentions_qna_question_count', 'guidance_forecasts_mentions_qna_answer_count', 'guidance_forecasts_mentions_presentation', 'rd_mentions_qna_question_count', 'rd_mentions_qna_answer_count', 'rd_mentions_presentation', 'esg_sustainability_mentions_qna_question_count', 'esg_sustainability_mentions_qna_answer_count', 'esg_sustainability_mentions_presentation', 'cybersecurity_data_protection_mentions_qna_question_count', 'cybersecurity_data_protection_mentions_qna_answer_count', 'cybersecurity_data_protection_mentions_presentation', 'currency_fluctuations_hedging_mentions_qna_question_count', 'currency_fluctuations_hedging_mentions_qna_answer_count', 'currency_fluctuations_hedging_mentions_presentation', 'regulation_mentions_qna_question_count', 'regulation_mentions_qna_answer_count', 'regulation_mentions_presentation', 'liquidity_cash_flow_mentions_qna_question_count', 'liquidity_cash_flow_mentions_qna_answer_count', 'liquidity_cash_flow_mentions_presentation', 'tax_strategy_mentions_qna_question_count', 'tax_strategy_mentions_qna_answer_count', 'tax_strategy_mentions_presentation', 'ai_mentions_qna_question_count', 'ai_mentions_qna_answer_count', 'ai_mentions_presentation', 'interest_rates_mentions_qna_question_count', 'interest_rates_mentions_qna_answer_count', 'interest_rates_mentions_presentation', 'labor_mentions_qna_question_count', 'labor_mentions_qna_answer_count', 'labor_mentions_presentation', 'buyback_mentions_qna_question_count', 'buyback_mentions_qna_answer_count', 'buyback_mentions_presentation', 'pandemic_mentions_qna_question_count', 'pandemic_mentions_qna_answer_count', 'pandemic_mentions_presentation']\n"
     ]
    }
   ],
   "source": [
    "path = \"/scratch/network/mm4846/transcripts_2006_2025_03_18_enhanced_other_qs.csv\"\n",
    "\n",
    "column_names = pd.read_csv(file_path, nrows=0).columns.tolist()\n",
    "print(column_names)  # Display column names\n"
   ]
  }
 ],
 "metadata": {
  "kernelspec": {
   "display_name": "Python 3 (ipykernel)",
   "language": "python",
   "name": "python3"
  },
  "language_info": {
   "codemirror_mode": {
    "name": "ipython",
    "version": 3
   },
   "file_extension": ".py",
   "mimetype": "text/x-python",
   "name": "python",
   "nbconvert_exporter": "python",
   "pygments_lexer": "ipython3",
   "version": "3.12.4"
  }
 },
 "nbformat": 4,
 "nbformat_minor": 5
}
